{
 "cells": [
  {
   "cell_type": "markdown",
   "metadata": {},
   "source": [
    "# WeatherAPI (Weather)\n",
    "\n",
    "Answer the following questions using [WeatherAPI](http://www.weatherapi.com/). I've added three cells for most questions but you're free to use more or less! Hold `Shift` and hit `Enter` to run a cell, and use the `+` on the top left to add a new cell to a notebook.\n",
    "\n",
    "Be sure to take advantage of both the documentation and the API Explorer!\n",
    "\n",
    "## 0) Import any libraries you might need\n",
    "\n",
    "- *Tip: We're going to be downloading things from the internet, so we probably need `requests`.*\n",
    "- *Tip: Remember you only need to import requests once!*"
   ]
  },
  {
   "cell_type": "code",
   "execution_count": 42,
   "metadata": {},
   "outputs": [],
   "source": [
    "import requests"
   ]
  },
  {
   "cell_type": "markdown",
   "metadata": {
    "collapsed": true
   },
   "source": [
    "## 1) Make a request to the Weather API for where you were born (or lived, or want to visit!).\n",
    "\n",
    "- *Tip: The URL we used in class was for a place near San Francisco. What was the format of the endpoint that made this happen?*\n",
    "- *Tip: Save the URL as a separate variable, and be sure to not have `[` and `]` inside.*\n",
    "- *Tip: How is north vs. south and east vs. west latitude/longitude represented? Is it the normal North/South/East/West?*\n",
    "- *Tip: You know it's JSON, but Python doesn't! Make sure you aren't trying to deal with plain text.* \n",
    "- *Tip: Once you've imported the JSON into a variable, check the timezone's name to make sure it seems like it got the right part of the world!*"
   ]
  },
  {
   "cell_type": "code",
   "execution_count": 43,
   "metadata": {},
   "outputs": [],
   "source": [
    "response = requests.get(\"http://api.weatherapi.com/v1/current.json?key=21a6fd27bc8f48a7b13221315210611&q=Denver&aqi=no\")"
   ]
  },
  {
   "cell_type": "code",
   "execution_count": 44,
   "metadata": {},
   "outputs": [],
   "source": [
    "data = response.json()"
   ]
  },
  {
   "cell_type": "markdown",
   "metadata": {},
   "source": [
    "## 2) What's the current wind speed? How much warmer does it feel than it actually is?\n",
    "\n",
    "- *Tip: You can do this by browsing through the dictionaries, but it might be easier to read the documentation*\n",
    "- *Tip: For the second half: it **is** one temperature, and it **feels** a different temperature. Calculate the difference.*"
   ]
  },
  {
   "cell_type": "code",
   "execution_count": 21,
   "metadata": {},
   "outputs": [
    {
     "name": "stdout",
     "output_type": "stream",
     "text": [
      "The wind is blowing 5.6 mph.\n"
     ]
    }
   ],
   "source": [
    "wind = data['current']['wind_mph']\n",
    "print(f\"The wind is blowing {wind} mph.\")"
   ]
  },
  {
   "cell_type": "code",
   "execution_count": 22,
   "metadata": {},
   "outputs": [
    {
     "name": "stdout",
     "output_type": "stream",
     "text": [
      "It feels the same as the temperature.\n"
     ]
    }
   ],
   "source": [
    "temp_diff = data['current']['feelslike_f'] - data['current']['temp_f']\n",
    "temp_diff = round(temp_diff)\n",
    "if temp_diff > 0:\n",
    "    print(f\"It feels {temp_diff} degrees warmer than it actually is.\")\n",
    "elif temp_diff < 0:\n",
    "    print(\"It feels\", abs(temp_diff), \"degrees colder than it actually is.\")\n",
    "else:\n",
    "    print(\"It feels the same as the temperature.\")"
   ]
  },
  {
   "cell_type": "markdown",
   "metadata": {},
   "source": [
    "## 3) What is the API endpoint for moon-related information? For the place you decided on above, how much of the moon will be visible tomorrow?\n",
    "\n",
    "- *Tip: Check the documentation!*\n",
    "- *Tip: If you aren't sure what something means, ask in Slack*"
   ]
  },
  {
   "cell_type": "code",
   "execution_count": 23,
   "metadata": {},
   "outputs": [],
   "source": [
    "response = requests.get(\"http://api.weatherapi.com/v1/astronomy.json?key=21a6fd27bc8f48a7b13221315210611&q=Denver&dt=2021-11-11\")"
   ]
  },
  {
   "cell_type": "code",
   "execution_count": 24,
   "metadata": {},
   "outputs": [],
   "source": [
    "data = response.json()"
   ]
  },
  {
   "cell_type": "code",
   "execution_count": 25,
   "metadata": {},
   "outputs": [
    {
     "name": "stdout",
     "output_type": "stream",
     "text": [
      "Tomorrow 44% of the moon will be visible from Denver.\n"
     ]
    }
   ],
   "source": [
    "moonview = data['astronomy']['astro']['moon_illumination']\n",
    "print(f\"Tomorrow {moonview}% of the moon will be visible from Denver.\")"
   ]
  },
  {
   "cell_type": "markdown",
   "metadata": {},
   "source": [
    "## 4) What's the difference between the high and low temperatures for today?\n",
    "\n",
    "- *Tip: When you requested moon data, you probably overwrote your variables! If so, you'll need to make a new request.*"
   ]
  },
  {
   "cell_type": "code",
   "execution_count": 26,
   "metadata": {},
   "outputs": [],
   "source": [
    "response = requests.get(\"http://api.weatherapi.com/v1/forecast.json?key=21a6fd27bc8f48a7b13221315210611&q=Denver&days=1&aqi=no&alerts=no\")\n",
    "data = response.json()"
   ]
  },
  {
   "cell_type": "code",
   "execution_count": 27,
   "metadata": {},
   "outputs": [
    {
     "name": "stdout",
     "output_type": "stream",
     "text": [
      "There is a 22.7 degree difference between the high and low temperatures today.\n"
     ]
    }
   ],
   "source": [
    "high = data['forecast']['forecastday'][0]['day']['maxtemp_f']\n",
    "low = data['forecast']['forecastday'][0]['day']['mintemp_f']\n",
    "hi_low = high - low\n",
    "\n",
    "print(f\"There is a {hi_low:,.1f} degree difference between the high and low temperatures today.\")"
   ]
  },
  {
   "cell_type": "markdown",
   "metadata": {
    "collapsed": true
   },
   "source": [
    "## 4.5) How can you avoid the \"oh no I don't have the data any more because I made another request\" problem in the future?\n",
    "\n",
    "What variable(s) do you have to rename, and what would you rename them?"
   ]
  },
  {
   "cell_type": "code",
   "execution_count": 28,
   "metadata": {},
   "outputs": [],
   "source": [
    "response = requests.get(\"http://api.weatherapi.com/v1/astronomy.json?key=21a6fd27bc8f48a7b13221315210611&q=Denver&dt=2021-11-10\")\n",
    "astro = response.json()"
   ]
  },
  {
   "cell_type": "code",
   "execution_count": 29,
   "metadata": {},
   "outputs": [],
   "source": [
    "response = requests.get(\"http://api.weatherapi.com/v1/forecast.json?key=21a6fd27bc8f48a7b13221315210611&q=Denver&days=3&aqi=no&alerts=no\")\n",
    "forecast3 = response.json()"
   ]
  },
  {
   "cell_type": "code",
   "execution_count": 48,
   "metadata": {},
   "outputs": [
    {
     "data": {
      "text/plain": [
       "3"
      ]
     },
     "execution_count": 48,
     "metadata": {},
     "output_type": "execute_result"
    }
   ],
   "source": [
    "len(forecast7['forecast']['forecastday'])"
   ]
  },
  {
   "cell_type": "markdown",
   "metadata": {},
   "source": [
    "## 5) Go through the daily forecasts, printing out the next three days' worth of predictions.\n",
    "\n",
    "I'd like to know the **high temperature** for each day, and whether it's **hot, warm, or cold** (based on what temperatures you think are hot, warm or cold).\n",
    "\n",
    "- *Tip: You'll need to use an `if` statement to say whether it is hot, warm or cold.*"
   ]
  },
  {
   "cell_type": "code",
   "execution_count": 30,
   "metadata": {},
   "outputs": [
    {
     "name": "stdout",
     "output_type": "stream",
     "text": [
      "2022-01-15 | 46.6\n",
      "It is cold.\n",
      "2022-01-16 | 49.5\n",
      "It is cold.\n",
      "2022-01-17 | 55.2\n",
      "It is cold.\n"
     ]
    }
   ],
   "source": [
    "for day in forecast3['forecast']['forecastday']:\n",
    "    print(day['date'], \"|\", day['day']['maxtemp_f'])\n",
    "    if day['day']['maxtemp_f'] > 80:\n",
    "        print(\"It is hot.\")\n",
    "    elif day['day']['maxtemp_f'] < 80 and day['day']['maxtemp_f'] > 60:\n",
    "        print(\"It is warm.\")\n",
    "    else: \n",
    "        print(\"It is cold.\")"
   ]
  },
  {
   "cell_type": "markdown",
   "metadata": {},
   "source": [
    "## 6) What will be the hottest day in the next three days? What is the high temperature on that day?"
   ]
  },
  {
   "cell_type": "code",
   "execution_count": 33,
   "metadata": {},
   "outputs": [
    {
     "name": "stdout",
     "output_type": "stream",
     "text": [
      "The hottest day will be 2022-01-17, with a high of 55.2 degrees.\n"
     ]
    }
   ],
   "source": [
    "max_temp_date = forecast3['forecast']['forecastday'][0]['date']\n",
    "max_temp = forecast3['forecast']['forecastday'][0]['day']['maxtemp_f']\n",
    "\n",
    "for day in forecast3['forecast']['forecastday']:\n",
    "    if day['day']['maxtemp_f'] > max_temp:\n",
    "        max_temp = day['day']['maxtemp_f']\n",
    "        max_temp_date = day['date']\n",
    "\n",
    "print(f\"The hottest day will be {max_temp_date}, with a high of {max_temp} degrees.\")\n"
   ]
  },
  {
   "cell_type": "markdown",
   "metadata": {},
   "source": [
    "## 7) What's the weather looking like for the next 24+ hours in Miami, Florida?\n",
    "\n",
    "I'd like to know the temperature for every hour, and if it's going to have cloud cover of more than 50% say \"{temperature} and cloudy\" instead of just the temperature. \n",
    "\n",
    "- *Tip: You'll only need one day of forecast*"
   ]
  },
  {
   "cell_type": "code",
   "execution_count": 34,
   "metadata": {},
   "outputs": [],
   "source": [
    "response = requests.get(\"http://api.weatherapi.com/v1/forecast.json?key=21a6fd27bc8f48a7b13221315210611&q=Miami&days=1&aqi=no&alerts=no\")\n",
    "miami1 = response.json()"
   ]
  },
  {
   "cell_type": "code",
   "execution_count": 35,
   "metadata": {},
   "outputs": [
    {
     "name": "stdout",
     "output_type": "stream",
     "text": [
      "{'time_epoch': 1642222800, 'time': '2022-01-15 00:00', 'temp_c': 20.3, 'temp_f': 68.5, 'is_day': 0, 'condition': {'text': 'Clear', 'icon': '//cdn.weatherapi.com/weather/64x64/night/113.png', 'code': 1000}, 'wind_mph': 2.7, 'wind_kph': 4.3, 'wind_degree': 317, 'wind_dir': 'NW', 'pressure_mb': 1017.0, 'pressure_in': 30.02, 'precip_mm': 0.0, 'precip_in': 0.0, 'humidity': 42, 'cloud': 0, 'feelslike_c': 20.3, 'feelslike_f': 68.5, 'windchill_c': 20.3, 'windchill_f': 68.5, 'heatindex_c': 20.3, 'heatindex_f': 68.5, 'dewpoint_c': 7.0, 'dewpoint_f': 44.6, 'will_it_rain': 0, 'chance_of_rain': 0, 'will_it_snow': 0, 'chance_of_snow': 0, 'vis_km': 10.0, 'vis_miles': 6.0, 'gust_mph': 3.8, 'gust_kph': 6.1, 'uv': 1.0}\n"
     ]
    }
   ],
   "source": [
    "print(miami1['forecast']['forecastday'][0]['hour'][0])"
   ]
  },
  {
   "cell_type": "code",
   "execution_count": 36,
   "metadata": {},
   "outputs": [
    {
     "name": "stdout",
     "output_type": "stream",
     "text": [
      "2022-01-15 00:00 | 68.5\n",
      "2022-01-15 01:00 | 68.2\n",
      "2022-01-15 02:00 | 67.8\n",
      "2022-01-15 03:00 | 67.3\n",
      "2022-01-15 04:00 | 66.9\n",
      "2022-01-15 05:00 | 66.0\n",
      "2022-01-15 06:00 | 65.7\n",
      "2022-01-15 07:00 | 65.3\n",
      "2022-01-15 08:00 | 65.1\n",
      "2022-01-15 09:00 | 65.3\n",
      "2022-01-15 10:00 | 66.0\n",
      "2022-01-15 11:00 | 71.4\n",
      "2022-01-15 12:00 | 72.5\n",
      "2022-01-15 13:00 | 73.0\n",
      "2022-01-15 14:00 | 72.7\n",
      "2022-01-15 15:00 | 70.9\n",
      "2022-01-15 16:00 | 75.7\n",
      "2022-01-15 17:00 | 75.9\n",
      "2022-01-15 18:00 | 75.9\n",
      "2022-01-15 19:00 | 75.6\n",
      "2022-01-15 20:00 | 70.3\n",
      "2022-01-15 21:00 | 70.5\n",
      "2022-01-15 22:00 | 71.1\n",
      "2022-01-15 23:00 | 71.1\n"
     ]
    }
   ],
   "source": [
    "for hour in miami1['forecast']['forecastday'][0]['hour']:\n",
    "    if hour['cloud'] > 50:\n",
    "        print(hour['time'], \"|\", hour['temp_f'], \"and cloudy\")\n",
    "    else:\n",
    "        print(hour['time'], \"|\", hour['temp_f'])"
   ]
  },
  {
   "cell_type": "markdown",
   "metadata": {},
   "source": [
    "## 8) For the next 24-ish hours in Miami, what percent of the time is the temperature above 85 degrees?\n",
    "\n",
    "- *Tip: You might want to read up on [looping patterns](http://jonathansoma.com/lede/foundations-2017/classes/data%20structures/looping-patterns/)*"
   ]
  },
  {
   "cell_type": "code",
   "execution_count": 38,
   "metadata": {},
   "outputs": [
    {
     "name": "stdout",
     "output_type": "stream",
     "text": [
      "For the next 24-ish hours, the temperature will not reach above 85 degrees.\n"
     ]
    }
   ],
   "source": [
    "count = 0\n",
    "\n",
    "for hour in miami1['forecast']['forecastday'][0]['hour']:\n",
    "    if hour['temp_f'] > 85:\n",
    "        count = count + 1\n",
    "\n",
    "pct_above_85 = count / 24\n",
    "\n",
    "if pct_above_85 > 0:\n",
    "    print(f\"For the next 24-ish hours, the temperature will be above 85 {pct_above_85}% of the time.\")\n",
    "else: \n",
    "    print(f\"For the next 24-ish hours, the temperature will not reach above 85 degrees.\")\n"
   ]
  },
  {
   "cell_type": "code",
   "execution_count": null,
   "metadata": {},
   "outputs": [],
   "source": []
  }
 ],
 "metadata": {
  "kernelspec": {
   "display_name": "Python 3 (ipykernel)",
   "language": "python",
   "name": "python3"
  },
  "language_info": {
   "codemirror_mode": {
    "name": "ipython",
    "version": 3
   },
   "file_extension": ".py",
   "mimetype": "text/x-python",
   "name": "python",
   "nbconvert_exporter": "python",
   "pygments_lexer": "ipython3",
   "version": "3.9.7"
  }
 },
 "nbformat": 4,
 "nbformat_minor": 1
}
